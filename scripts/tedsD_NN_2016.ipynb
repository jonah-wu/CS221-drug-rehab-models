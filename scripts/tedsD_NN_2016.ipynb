{
 "cells": [
  {
   "cell_type": "code",
   "execution_count": 1,
   "metadata": {},
   "outputs": [
    {
     "name": "stderr",
     "output_type": "stream",
     "text": [
      "Using TensorFlow backend.\n"
     ]
    }
   ],
   "source": [
    "import pandas as pd\n",
    "import numpy as np\n",
    "from keras.models import Sequential\n",
    "from keras.layers import Dense\n",
    "from keras.wrappers.scikit_learn import KerasClassifier\n",
    "from sklearn.model_selection import cross_val_score\n",
    "from sklearn.preprocessing import LabelEncoder\n",
    "from sklearn.model_selection import StratifiedKFold\n",
    "from sklearn.preprocessing import StandardScaler\n",
    "from sklearn.pipeline import Pipeline\n",
    "from matplotlib import pyplot\n",
    "from keras import regularizers\n",
    "from sklearn.metrics import roc_curve\n",
    "from sklearn.metrics import roc_auc_score\n",
    "from sklearn.metrics import accuracy_score\n",
    "from sklearn.metrics import precision_score\n",
    "from sklearn.metrics import recall_score\n",
    "from sklearn.metrics import f1_score"
   ]
  },
  {
   "cell_type": "code",
   "execution_count": 28,
   "metadata": {},
   "outputs": [
    {
     "name": "stdout",
     "output_type": "stream",
     "text": [
      "Finished processing ... df1\n",
      "Finished processing ... df2\n",
      "Finished processing ... df3\n",
      "Finished processing ... frames\n"
     ]
    },
    {
     "name": "stderr",
     "output_type": "stream",
     "text": [
      "/Users/jonahwu/miniconda3/envs/pysal2_1_release/lib/python3.6/site-packages/ipykernel_launcher.py:9: FutureWarning: Sorting because non-concatenation axis is not aligned. A future version\n",
      "of pandas will change to not sort by default.\n",
      "\n",
      "To accept the future behavior, pass 'sort=False'.\n",
      "\n",
      "To retain the current behavior and silence the warning, pass 'sort=True'.\n",
      "\n",
      "  if __name__ == '__main__':\n"
     ]
    },
    {
     "name": "stdout",
     "output_type": "stream",
     "text": [
      "This is the very original dataset size: (1458045, 248)\n"
     ]
    }
   ],
   "source": [
    "df1 = pd.read_csv(\"../data/one-hotted-tedsd/updated_2016_3_v2.csv\")\n",
    "print(\"Finished processing ... df1\");\n",
    "df2 = pd.read_csv(\"../data/one-hotted-tedsd/updated_2016_2_v2.csv\")\n",
    "print(\"Finished processing ... df2\");\n",
    "df3 = pd.read_csv(\"../data/one-hotted-tedsd/update_2016_1_v3.csv\")\n",
    "print(\"Finished processing ... df3\");\n",
    "frames = [df1, df2, df3]\n",
    "print(\"Finished processing ... frames\");\n",
    "original_df = pd.concat(frames)\n",
    "print(\"This is the very original dataset size: \" + str(original_df.shape))\n",
    "\n",
    "\n",
    "\n"
   ]
  },
  {
   "cell_type": "code",
   "execution_count": 29,
   "metadata": {},
   "outputs": [],
   "source": [
    "df_copy = original_df.copy(deep=True).sample(frac=1)"
   ]
  },
  {
   "cell_type": "code",
   "execution_count": 30,
   "metadata": {},
   "outputs": [
    {
     "name": "stdout",
     "output_type": "stream",
     "text": [
      "This is the copied dataset size: (1458045, 248)\n"
     ]
    }
   ],
   "source": [
    "# label_df = pd.read_csv(\"../data/tedsd_2016_puf.csv\")\n",
    "# label = label_df[\"reason\"]\n",
    "# df_copy[\"reason\"] = label\n",
    "# df_copy = df_copy.sample(frac=1)\n",
    "print(\"This is the copied dataset size: \" + str(df_copy.shape))"
   ]
  },
  {
   "cell_type": "code",
   "execution_count": 31,
   "metadata": {},
   "outputs": [
    {
     "name": "stdout",
     "output_type": "stream",
     "text": [
      "951949.0\n",
      "240912.0\n"
     ]
    }
   ],
   "source": [
    "male_col = np.asarray(df_copy[\"gender_male\"])\n",
    "black_col = np.asarray(df_copy[\"race_black\"])\n",
    "print(np.sum(male_col))\n",
    "print(np.sum(black_col))\n"
   ]
  },
  {
   "cell_type": "code",
   "execution_count": 32,
   "metadata": {},
   "outputs": [
    {
     "name": "stdout",
     "output_type": "stream",
     "text": [
      "{'ALCFLG': 0, 'AMPHFLG': 1, 'ARRESTS': 2, 'BARBFLG': 3, 'BENZFLG': 4, 'COKEFLG': 5, 'DSMCRIT': 6, 'HALLFLG': 7, 'HERFLG': 8, 'IDU': 9, 'INHFLG': 10, 'MARFLG': 11, 'METHFLG': 12, 'MTHAMFLG': 13, 'NOPRIOR': 14, 'OPSYNFLG': 15, 'OTCFLG': 16, 'OTHERFLG': 17, 'PCPFLG': 18, 'PSYPROB': 19, 'SEDHPFLG': 20, 'STIMFLG': 21, 'TRNQFLG': 22, 'age_approx': 23, 'alcdrug_alc': 24, 'alcdrug_both': 25, 'alcdrug_drug': 26, 'alcdrug_none': 27, 'daywait_approx': 28, 'division_enc': 29, 'division_esc': 30, 'division_ma': 31, 'division_mt': 32, 'division_ne': 33, 'division_pc': 34, 'division_sa': 35, 'division_territory': 36, 'division_wnc': 37, 'division_wsc': 38, 'educ_approx': 39, 'employ_full': 40, 'employ_nlf': 41, 'employ_part': 42, 'employ_unemployed': 43, 'employ_unknown': 44, 'ethnic_cuban': 45, 'ethnic_latino': 46, 'ethnic_mexican': 47, 'ethnic_none': 48, 'ethnic_puerto': 49, 'ethnic_unknown': 50, 'firstuse1_approx': 51, 'firstuse2_approx': 52, 'freq1_daily': 53, 'freq1_none': 54, 'freq1_some': 55, 'freq1_unknown': 56, 'freq2_daily': 57, 'freq2_none': 58, 'freq2_some': 59, 'freq2_unknown': 60, 'freq3_daily': 61, 'freq3_none': 62, 'freq3_some': 63, 'freq3_unknown': 64, 'freq_atnd_self_help_approx': 65, 'gender_female': 66, 'gender_male': 67, 'gender_unknown': 68, 'livarag_dependent': 69, 'livarag_homeless': 70, 'livarag_independent': 71, 'livarag_unknown': 72, 'marstat_divorced': 73, 'marstat_married': 74, 'marstat_separated': 75, 'marstat_single': 76, 'marstat_unknown': 77, 'methuse': 78, 'methuse_unknown': 79, 'preg_unknown': 80, 'pregnant': 81, 'priminc_none': 82, 'priminc_other': 83, 'priminc_public': 84, 'priminc_retirement': 85, 'priminc_unknown': 86, 'priminc_wages': 87, 'psource_alc_drug': 88, 'psource_community': 89, 'psource_court': 90, 'psource_employer': 91, 'psource_health': 92, 'psource_individual': 93, 'psource_school': 94, 'psource_unknown': 95, 'race_alaska': 96, 'race_asian': 97, 'race_black': 98, 'race_multiple': 99, 'race_native': 100, 'race_single': 101, 'race_unknown': 102, 'race_white': 103, 'reason': 104, 'region_midwest': 105, 'region_ne': 106, 'region_south': 107, 'region_territory': 108, 'region_west': 109, 'route1_inhalation': 110, 'route1_injection': 111, 'route1_oral': 112, 'route1_other': 113, 'route1_smoke': 114, 'route1_unknown': 115, 'route2_inhalation': 116, 'route2_injection': 117, 'route2_oral': 118, 'route2_other': 119, 'route2_smoke': 120, 'route2_unknown': 121, 'route3_inhalation': 122, 'route3_injection': 123, 'route3_oral': 124, 'route3_other': 125, 'route3_smoke': 126, 'route3_unknown': 127, 'service_amb_dt': 128, 'service_amb_in': 129, 'service_amb_nin': 130, 'service_dt_24_h': 131, 'service_dt_24_r': 132, 'service_re_h': 133, 'service_re_long': 134, 'service_re_short': 135, 'stfips_0in': 136, 'stfips_ak': 137, 'stfips_al': 138, 'stfips_ar': 139, 'stfips_az': 140, 'stfips_ca': 141, 'stfips_co': 142, 'stfips_ct': 143, 'stfips_dc': 144, 'stfips_de': 145, 'stfips_fl': 146, 'stfips_hi': 147, 'stfips_ia': 148, 'stfips_id': 149, 'stfips_il': 150, 'stfips_in': 151, 'stfips_ks': 152, 'stfips_ky': 153, 'stfips_la': 154, 'stfips_ma': 155, 'stfips_md': 156, 'stfips_me': 157, 'stfips_mi': 158, 'stfips_mn': 159, 'stfips_mo': 160, 'stfips_ms': 161, 'stfips_mt': 162, 'stfips_nc': 163, 'stfips_nd': 164, 'stfips_ne': 165, 'stfips_nh': 166, 'stfips_nj': 167, 'stfips_nm': 168, 'stfips_nv': 169, 'stfips_ny': 170, 'stfips_oh': 171, 'stfips_ok': 172, 'stfips_pa': 173, 'stfips_pc': 174, 'stfips_ri': 175, 'stfips_sc': 176, 'stfips_sd': 177, 'stfips_tn': 178, 'stfips_tx': 179, 'stfips_ut': 180, 'stfips_va': 181, 'stfips_vt': 182, 'stfips_wa': 183, 'stfips_wi': 184, 'stfips_wy': 185, 'sub1_alcohol': 186, 'sub1_amphetamines': 187, 'sub1_barbiturates': 188, 'sub1_benzos': 189, 'sub1_cocaine': 190, 'sub1_hallucinogens': 191, 'sub1_heroin': 192, 'sub1_inhalants': 193, 'sub1_meth': 194, 'sub1_methadone': 195, 'sub1_none': 196, 'sub1_opiates': 197, 'sub1_otc': 198, 'sub1_other': 199, 'sub1_pcp': 200, 'sub1_sedatives': 201, 'sub1_stimulants': 202, 'sub1_tranqs': 203, 'sub1_unknown': 204, 'sub1_weed': 205, 'sub2_alcohol': 206, 'sub2_amphetamines': 207, 'sub2_barbiturates': 208, 'sub2_benzos': 209, 'sub2_cocaine': 210, 'sub2_hallucinogens': 211, 'sub2_heroin': 212, 'sub2_inhalants': 213, 'sub2_meth': 214, 'sub2_methadone': 215, 'sub2_none': 216, 'sub2_opiates': 217, 'sub2_otc': 218, 'sub2_other': 219, 'sub2_pcp': 220, 'sub2_sedatives': 221, 'sub2_stimulants': 222, 'sub2_tranqs': 223, 'sub2_unknown': 224, 'sub2_weed': 225, 'sub3_alcohol': 226, 'sub3_amphetamines': 227, 'sub3_barbiturates': 228, 'sub3_benzos': 229, 'sub3_cocaine': 230, 'sub3_hallucinogens': 231, 'sub3_heroin': 232, 'sub3_inhalants': 233, 'sub3_meth': 234, 'sub3_methadone': 235, 'sub3_none': 236, 'sub3_opiates': 237, 'sub3_otc': 238, 'sub3_other': 239, 'sub3_pcp': 240, 'sub3_sedatives': 241, 'sub3_stimulants': 242, 'sub3_tranqs': 243, 'sub3_unknown': 244, 'sub3_weed': 245, 'vet_unknown': 246, 'veteran': 247}\n"
     ]
    }
   ],
   "source": [
    "\n",
    "# genderIndxNames = df_copy[(df_copy[\"gender_male\"] == 0)].index\n",
    "# print(len(genderIndxNames))\n",
    "# df_copy = df_copy.drop(genderIndxNames, axis=0)\n",
    "# print(\"This is the dataset size after removing all females\" + str(df_copy.shape))\n",
    "# raceIndxNames = df_copy[(df_copy['race_black'] == 0)].index\n",
    "# df_copy.drop(raceIndxNames, inplace=True)\n",
    "# print(\"This is the dataset size after removing the raceIndx: \" + str(df_copy.shape))\n",
    "\n",
    "dataset = df_copy.to_numpy()\n",
    "\n",
    "#Extract Features\n",
    "dataFields = {}\n",
    "for x in range(len(df_copy.columns)):\n",
    "\tdataFields.update({df_copy.columns[x]: x})\n",
    "print(dataFields)\n",
    "indx = dataFields[\"reason\"]\n",
    "Y = dataset[:,[indx]]\n",
    "\n",
    "# Set to binary classification problem\n",
    "Y = np.select([(Y == 1)], [1] , default = 0)"
   ]
  },
  {
   "cell_type": "code",
   "execution_count": 7,
   "metadata": {},
   "outputs": [
    {
     "ename": "KeyError",
     "evalue": "'ETHNIC'",
     "output_type": "error",
     "traceback": [
      "\u001b[0;31m---------------------------------------------------------------------------\u001b[0m",
      "\u001b[0;31mKeyError\u001b[0m                                  Traceback (most recent call last)",
      "\u001b[0;32m~/miniconda3/envs/pysal2_1_release/lib/python3.6/site-packages/pandas/core/indexes/base.py\u001b[0m in \u001b[0;36mget_loc\u001b[0;34m(self, key, method, tolerance)\u001b[0m\n\u001b[1;32m   2896\u001b[0m             \u001b[0;32mtry\u001b[0m\u001b[0;34m:\u001b[0m\u001b[0;34m\u001b[0m\u001b[0;34m\u001b[0m\u001b[0m\n\u001b[0;32m-> 2897\u001b[0;31m                 \u001b[0;32mreturn\u001b[0m \u001b[0mself\u001b[0m\u001b[0;34m.\u001b[0m\u001b[0m_engine\u001b[0m\u001b[0;34m.\u001b[0m\u001b[0mget_loc\u001b[0m\u001b[0;34m(\u001b[0m\u001b[0mkey\u001b[0m\u001b[0;34m)\u001b[0m\u001b[0;34m\u001b[0m\u001b[0;34m\u001b[0m\u001b[0m\n\u001b[0m\u001b[1;32m   2898\u001b[0m             \u001b[0;32mexcept\u001b[0m \u001b[0mKeyError\u001b[0m\u001b[0;34m:\u001b[0m\u001b[0;34m\u001b[0m\u001b[0;34m\u001b[0m\u001b[0m\n",
      "\u001b[0;32mpandas/_libs/index.pyx\u001b[0m in \u001b[0;36mpandas._libs.index.IndexEngine.get_loc\u001b[0;34m()\u001b[0m\n",
      "\u001b[0;32mpandas/_libs/index.pyx\u001b[0m in \u001b[0;36mpandas._libs.index.IndexEngine.get_loc\u001b[0;34m()\u001b[0m\n",
      "\u001b[0;32mpandas/_libs/hashtable_class_helper.pxi\u001b[0m in \u001b[0;36mpandas._libs.hashtable.PyObjectHashTable.get_item\u001b[0;34m()\u001b[0m\n",
      "\u001b[0;32mpandas/_libs/hashtable_class_helper.pxi\u001b[0m in \u001b[0;36mpandas._libs.hashtable.PyObjectHashTable.get_item\u001b[0;34m()\u001b[0m\n",
      "\u001b[0;31mKeyError\u001b[0m: 'ETHNIC'",
      "\nDuring handling of the above exception, another exception occurred:\n",
      "\u001b[0;31mKeyError\u001b[0m                                  Traceback (most recent call last)",
      "\u001b[0;32m<ipython-input-7-41ca9414455d>\u001b[0m in \u001b[0;36m<module>\u001b[0;34m\u001b[0m\n\u001b[1;32m     12\u001b[0m     \u001b[0;32mreturn\u001b[0m \u001b[0mnew_df\u001b[0m\u001b[0;34m\u001b[0m\u001b[0;34m\u001b[0m\u001b[0m\n\u001b[1;32m     13\u001b[0m \u001b[0;34m\u001b[0m\u001b[0m\n\u001b[0;32m---> 14\u001b[0;31m \u001b[0mhispanicDf\u001b[0m \u001b[0;34m=\u001b[0m \u001b[0mconstrainToHispanicMales\u001b[0m\u001b[0;34m(\u001b[0m\u001b[0moriginal_df\u001b[0m\u001b[0;34m)\u001b[0m\u001b[0;34m\u001b[0m\u001b[0;34m\u001b[0m\u001b[0m\n\u001b[0m\u001b[1;32m     15\u001b[0m \u001b[0mprint\u001b[0m\u001b[0;34m(\u001b[0m\u001b[0mhispanicDf\u001b[0m\u001b[0;34m.\u001b[0m\u001b[0mshape\u001b[0m\u001b[0;34m)\u001b[0m\u001b[0;34m\u001b[0m\u001b[0;34m\u001b[0m\u001b[0m\n\u001b[1;32m     16\u001b[0m \u001b[0mprint\u001b[0m\u001b[0;34m(\u001b[0m\u001b[0moriginal_df\u001b[0m\u001b[0;34m.\u001b[0m\u001b[0mshape\u001b[0m\u001b[0;34m)\u001b[0m\u001b[0;34m\u001b[0m\u001b[0;34m\u001b[0m\u001b[0m\n",
      "\u001b[0;32m<ipython-input-7-41ca9414455d>\u001b[0m in \u001b[0;36mconstrainToHispanicMales\u001b[0;34m(df)\u001b[0m\n\u001b[1;32m      2\u001b[0m \u001b[0;32mdef\u001b[0m \u001b[0mconstrainToHispanicMales\u001b[0m\u001b[0;34m(\u001b[0m\u001b[0mdf\u001b[0m\u001b[0;34m)\u001b[0m\u001b[0;34m:\u001b[0m\u001b[0;34m\u001b[0m\u001b[0;34m\u001b[0m\u001b[0m\n\u001b[1;32m      3\u001b[0m     \u001b[0mnew_df\u001b[0m \u001b[0;34m=\u001b[0m \u001b[0mdf\u001b[0m\u001b[0;34m.\u001b[0m\u001b[0mcopy\u001b[0m\u001b[0;34m(\u001b[0m\u001b[0mdeep\u001b[0m\u001b[0;34m=\u001b[0m\u001b[0;32mTrue\u001b[0m\u001b[0;34m)\u001b[0m\u001b[0;34m\u001b[0m\u001b[0;34m\u001b[0m\u001b[0m\n\u001b[0;32m----> 4\u001b[0;31m     \u001b[0mnonHispanics\u001b[0m \u001b[0;34m=\u001b[0m \u001b[0mnew_df\u001b[0m\u001b[0;34m[\u001b[0m\u001b[0;34m(\u001b[0m\u001b[0mnew_df\u001b[0m\u001b[0;34m[\u001b[0m\u001b[0;34m'ETHNIC'\u001b[0m\u001b[0;34m]\u001b[0m \u001b[0;34m==\u001b[0m \u001b[0;36m4\u001b[0m\u001b[0;34m)\u001b[0m\u001b[0;34m]\u001b[0m\u001b[0;34m.\u001b[0m\u001b[0mindex\u001b[0m \u001b[0;31m#4 is non-hispanic\u001b[0m\u001b[0;34m\u001b[0m\u001b[0;34m\u001b[0m\u001b[0m\n\u001b[0m\u001b[1;32m      5\u001b[0m     \u001b[0mnew_df\u001b[0m\u001b[0;34m.\u001b[0m\u001b[0mdrop\u001b[0m\u001b[0;34m(\u001b[0m\u001b[0mnonHispanics\u001b[0m\u001b[0;34m,\u001b[0m \u001b[0minplace\u001b[0m\u001b[0;34m=\u001b[0m\u001b[0;32mTrue\u001b[0m\u001b[0;34m)\u001b[0m\u001b[0;34m\u001b[0m\u001b[0;34m\u001b[0m\u001b[0m\n\u001b[1;32m      6\u001b[0m     \u001b[0mprint\u001b[0m\u001b[0;34m(\u001b[0m\u001b[0mnew_df\u001b[0m\u001b[0;34m.\u001b[0m\u001b[0mshape\u001b[0m\u001b[0;34m)\u001b[0m\u001b[0;34m\u001b[0m\u001b[0;34m\u001b[0m\u001b[0m\n",
      "\u001b[0;32m~/miniconda3/envs/pysal2_1_release/lib/python3.6/site-packages/pandas/core/frame.py\u001b[0m in \u001b[0;36m__getitem__\u001b[0;34m(self, key)\u001b[0m\n\u001b[1;32m   2993\u001b[0m             \u001b[0;32mif\u001b[0m \u001b[0mself\u001b[0m\u001b[0;34m.\u001b[0m\u001b[0mcolumns\u001b[0m\u001b[0;34m.\u001b[0m\u001b[0mnlevels\u001b[0m \u001b[0;34m>\u001b[0m \u001b[0;36m1\u001b[0m\u001b[0;34m:\u001b[0m\u001b[0;34m\u001b[0m\u001b[0;34m\u001b[0m\u001b[0m\n\u001b[1;32m   2994\u001b[0m                 \u001b[0;32mreturn\u001b[0m \u001b[0mself\u001b[0m\u001b[0;34m.\u001b[0m\u001b[0m_getitem_multilevel\u001b[0m\u001b[0;34m(\u001b[0m\u001b[0mkey\u001b[0m\u001b[0;34m)\u001b[0m\u001b[0;34m\u001b[0m\u001b[0;34m\u001b[0m\u001b[0m\n\u001b[0;32m-> 2995\u001b[0;31m             \u001b[0mindexer\u001b[0m \u001b[0;34m=\u001b[0m \u001b[0mself\u001b[0m\u001b[0;34m.\u001b[0m\u001b[0mcolumns\u001b[0m\u001b[0;34m.\u001b[0m\u001b[0mget_loc\u001b[0m\u001b[0;34m(\u001b[0m\u001b[0mkey\u001b[0m\u001b[0;34m)\u001b[0m\u001b[0;34m\u001b[0m\u001b[0;34m\u001b[0m\u001b[0m\n\u001b[0m\u001b[1;32m   2996\u001b[0m             \u001b[0;32mif\u001b[0m \u001b[0mis_integer\u001b[0m\u001b[0;34m(\u001b[0m\u001b[0mindexer\u001b[0m\u001b[0;34m)\u001b[0m\u001b[0;34m:\u001b[0m\u001b[0;34m\u001b[0m\u001b[0;34m\u001b[0m\u001b[0m\n\u001b[1;32m   2997\u001b[0m                 \u001b[0mindexer\u001b[0m \u001b[0;34m=\u001b[0m \u001b[0;34m[\u001b[0m\u001b[0mindexer\u001b[0m\u001b[0;34m]\u001b[0m\u001b[0;34m\u001b[0m\u001b[0;34m\u001b[0m\u001b[0m\n",
      "\u001b[0;32m~/miniconda3/envs/pysal2_1_release/lib/python3.6/site-packages/pandas/core/indexes/base.py\u001b[0m in \u001b[0;36mget_loc\u001b[0;34m(self, key, method, tolerance)\u001b[0m\n\u001b[1;32m   2897\u001b[0m                 \u001b[0;32mreturn\u001b[0m \u001b[0mself\u001b[0m\u001b[0;34m.\u001b[0m\u001b[0m_engine\u001b[0m\u001b[0;34m.\u001b[0m\u001b[0mget_loc\u001b[0m\u001b[0;34m(\u001b[0m\u001b[0mkey\u001b[0m\u001b[0;34m)\u001b[0m\u001b[0;34m\u001b[0m\u001b[0;34m\u001b[0m\u001b[0m\n\u001b[1;32m   2898\u001b[0m             \u001b[0;32mexcept\u001b[0m \u001b[0mKeyError\u001b[0m\u001b[0;34m:\u001b[0m\u001b[0;34m\u001b[0m\u001b[0;34m\u001b[0m\u001b[0m\n\u001b[0;32m-> 2899\u001b[0;31m                 \u001b[0;32mreturn\u001b[0m \u001b[0mself\u001b[0m\u001b[0;34m.\u001b[0m\u001b[0m_engine\u001b[0m\u001b[0;34m.\u001b[0m\u001b[0mget_loc\u001b[0m\u001b[0;34m(\u001b[0m\u001b[0mself\u001b[0m\u001b[0;34m.\u001b[0m\u001b[0m_maybe_cast_indexer\u001b[0m\u001b[0;34m(\u001b[0m\u001b[0mkey\u001b[0m\u001b[0;34m)\u001b[0m\u001b[0;34m)\u001b[0m\u001b[0;34m\u001b[0m\u001b[0;34m\u001b[0m\u001b[0m\n\u001b[0m\u001b[1;32m   2900\u001b[0m         \u001b[0mindexer\u001b[0m \u001b[0;34m=\u001b[0m \u001b[0mself\u001b[0m\u001b[0;34m.\u001b[0m\u001b[0mget_indexer\u001b[0m\u001b[0;34m(\u001b[0m\u001b[0;34m[\u001b[0m\u001b[0mkey\u001b[0m\u001b[0;34m]\u001b[0m\u001b[0;34m,\u001b[0m \u001b[0mmethod\u001b[0m\u001b[0;34m=\u001b[0m\u001b[0mmethod\u001b[0m\u001b[0;34m,\u001b[0m \u001b[0mtolerance\u001b[0m\u001b[0;34m=\u001b[0m\u001b[0mtolerance\u001b[0m\u001b[0;34m)\u001b[0m\u001b[0;34m\u001b[0m\u001b[0;34m\u001b[0m\u001b[0m\n\u001b[1;32m   2901\u001b[0m         \u001b[0;32mif\u001b[0m \u001b[0mindexer\u001b[0m\u001b[0;34m.\u001b[0m\u001b[0mndim\u001b[0m \u001b[0;34m>\u001b[0m \u001b[0;36m1\u001b[0m \u001b[0;32mor\u001b[0m \u001b[0mindexer\u001b[0m\u001b[0;34m.\u001b[0m\u001b[0msize\u001b[0m \u001b[0;34m>\u001b[0m \u001b[0;36m1\u001b[0m\u001b[0;34m:\u001b[0m\u001b[0;34m\u001b[0m\u001b[0;34m\u001b[0m\u001b[0m\n",
      "\u001b[0;32mpandas/_libs/index.pyx\u001b[0m in \u001b[0;36mpandas._libs.index.IndexEngine.get_loc\u001b[0;34m()\u001b[0m\n",
      "\u001b[0;32mpandas/_libs/index.pyx\u001b[0m in \u001b[0;36mpandas._libs.index.IndexEngine.get_loc\u001b[0;34m()\u001b[0m\n",
      "\u001b[0;32mpandas/_libs/hashtable_class_helper.pxi\u001b[0m in \u001b[0;36mpandas._libs.hashtable.PyObjectHashTable.get_item\u001b[0;34m()\u001b[0m\n",
      "\u001b[0;32mpandas/_libs/hashtable_class_helper.pxi\u001b[0m in \u001b[0;36mpandas._libs.hashtable.PyObjectHashTable.get_item\u001b[0;34m()\u001b[0m\n",
      "\u001b[0;31mKeyError\u001b[0m: 'ETHNIC'"
     ]
    }
   ],
   "source": [
    "#### Constraint to hispanic Dataset\n",
    "def constrainToHispanicMales(df):\n",
    "    new_df = df.copy(deep=True)\n",
    "    nonHispanics = new_df[(new_df['ETHNIC'] == 4)].index #4 is non-hispanic\n",
    "    new_df.drop(nonHispanics, inplace=True)\n",
    "    print(new_df.shape)\n",
    "    raceIndxNames = new_df[(new_df['ETHNIC'] == -9)].index # 9 is missing\n",
    "    new_df.drop(raceIndxNames, inplace=True)\n",
    "    genderIndxNames = new_df[(new_df['GENDER']!=1)].index\n",
    "    new_df.drop(genderIndxNames, inplace=True)\n",
    "    print(new_df.shape)\n",
    "    return new_df\n",
    "\n",
    "hispanicDf = constrainToHispanicMales(original_df)\n",
    "print(hispanicDf.shape)\n",
    "print(original_df.shape)\n",
    "print(hispanicDf['ETHNIC'])"
   ]
  },
  {
   "cell_type": "code",
   "execution_count": 33,
   "metadata": {
    "scrolled": true
   },
   "outputs": [
    {
     "name": "stdout",
     "output_type": "stream",
     "text": [
      "['service_dt_24_r', 'service_amb_nin', 'service_amb_in', 'service_re_short', 'methuse', 'psource_court', 'stfips_co', 'region_midwest', 'region_west', 'stfips_ky', 'division_mt', 'stfips_fl', 'employ_full', 'stfips_mo', 'division_sa', 'freq1_none', 'division_esc', 'division_enc', 'stfips_nj', 'psource_health', 'sub1_alcohol', 'livarag_unknown', 'stfips_md', 'ARRESTS', 'livarag_homeless', 'ALCFLG', 'race_white', 'priminc_unknown', 'psource_individual', 'region_ne', 'vet_unknown', 'marstat_single', 'sub2_none', 'priminc_wages', 'stfips_mi', 'service_re_long', 'livarag_dependent', 'sub1_weed', 'stfips_ny', 'gender_female', 'stfips_la', 'division_wnc', 'stfips_ne', 'priminc_public', 'race_black', 'OPSYNFLG', 'stfips_il', 'route1_inhalation', 'stfips_sc', 'route1_smoke', 'sub1_opiates', 'stfips_az', 'sub1_heroin', 'BENZFLG', 'ethnic_mexican', 'freq2_daily', 'route1_injection', 'sub1_unknown', 'route1_oral', 'stfips_ct', 'freq2_some', 'division_ma', 'stfips_tn', 'stfips_ks', 'division_ne', 'service_dt_24_h', 'sub1_none', 'marstat_married', 'sub3_unknown', 'sub2_weed', 'IDU', 'priminc_retirement', 'HERFLG', 'methuse_unknown', 'freq1_daily']\n",
      "\n",
      "Shape of dataset following feature deletion:  (1458045, 75)\n",
      "Label Dimensions: (1458045, 1)\n"
     ]
    }
   ],
   "source": [
    "featureWeights = pd.read_csv(\"../data/rankedFeatures.csv\")\n",
    "fields = list(featureWeights[\"field\"])\n",
    "desiredChars = [fields[x] for x in range(75)]\n",
    "print(desiredChars)\n",
    "indxsToDelete = []\n",
    "for key, value in dataFields.items():\n",
    "    if key not in desiredChars:\n",
    "        indxsToDelete.append(value)\n",
    "# Delete the reason field for now\n",
    "print()\n",
    "X = np.delete(dataset, indxsToDelete, 1)\n",
    "print(\"Shape of dataset following feature deletion: \", X.shape)\n",
    "print(\"Label Dimensions:\", Y.shape)"
   ]
  },
  {
   "cell_type": "code",
   "execution_count": 35,
   "metadata": {},
   "outputs": [
    {
     "name": "stdout",
     "output_type": "stream",
     "text": [
      "trainX: (1385142, 75)\n",
      "trainY: (1385142, 1)\n",
      "testX: (72903, 75)\n",
      "testY: (72903, 1)\n"
     ]
    }
   ],
   "source": [
    "train_split_ratio = .95\n",
    "def get_data(X, Y, ratio):\n",
    "    assert(len(X) == len(Y))\n",
    "    n_test = int(len(X) * ratio)\n",
    "    trainX, testX = X[:n_test], X[n_test:]\n",
    "    trainY, testY = Y[:n_test], Y[n_test:]\n",
    "    return trainX, trainY, testX, testY\n",
    "\n",
    "trainX, trainY, testX, testY = get_data(X, Y, train_split_ratio)\n",
    "print(\"trainX:\", trainX.shape)\n",
    "print(\"trainY:\", trainY.shape)\n",
    "print(\"testX:\", testX.shape)\n",
    "print(\"testY:\", testY.shape)"
   ]
  },
  {
   "cell_type": "code",
   "execution_count": 36,
   "metadata": {},
   "outputs": [
    {
     "name": "stdout",
     "output_type": "stream",
     "text": [
      "Train on 1385142 samples, validate on 72903 samples\n",
      "Epoch 1/25\n",
      "1385142/1385142 [==============================] - 118s 85us/step - loss: 0.6269 - accuracy: 0.6700 - val_loss: 0.6088 - val_accuracy: 0.6777\n",
      "Epoch 2/25\n",
      "1385142/1385142 [==============================] - 114s 82us/step - loss: 0.6083 - accuracy: 0.6758 - val_loss: 0.6084 - val_accuracy: 0.6758\n",
      "Epoch 3/25\n",
      "1385142/1385142 [==============================] - 119s 86us/step - loss: 0.6067 - accuracy: 0.6763 - val_loss: 0.6098 - val_accuracy: 0.6757\n",
      "Epoch 4/25\n",
      "1385142/1385142 [==============================] - 137s 99us/step - loss: 0.6060 - accuracy: 0.6765 - val_loss: 0.6045 - val_accuracy: 0.6798\n",
      "Epoch 5/25\n",
      "1385142/1385142 [==============================] - 131s 94us/step - loss: 0.6059 - accuracy: 0.6764 - val_loss: 0.6140 - val_accuracy: 0.6716\n",
      "Epoch 6/25\n",
      "1385142/1385142 [==============================] - 116s 83us/step - loss: 0.6056 - accuracy: 0.6766 - val_loss: 0.6068 - val_accuracy: 0.6743\n",
      "Epoch 7/25\n",
      "1385142/1385142 [==============================] - 124s 89us/step - loss: 0.6052 - accuracy: 0.6769 - val_loss: 0.6057 - val_accuracy: 0.6766\n",
      "Epoch 8/25\n",
      "1385142/1385142 [==============================] - 123s 89us/step - loss: 0.6050 - accuracy: 0.6769 - val_loss: 0.6057 - val_accuracy: 0.6774\n",
      "Epoch 9/25\n",
      "1385142/1385142 [==============================] - 116s 84us/step - loss: 0.6047 - accuracy: 0.6773 - val_loss: 0.6061 - val_accuracy: 0.6771\n",
      "Epoch 10/25\n",
      "1385142/1385142 [==============================] - 120s 87us/step - loss: 0.6046 - accuracy: 0.6771 - val_loss: 0.6057 - val_accuracy: 0.6775\n",
      "Epoch 11/25\n",
      "1385142/1385142 [==============================] - 117s 84us/step - loss: 0.6049 - accuracy: 0.6773 - val_loss: 0.6064 - val_accuracy: 0.6741\n",
      "Epoch 12/25\n",
      "1385142/1385142 [==============================] - 123s 89us/step - loss: 0.6044 - accuracy: 0.6773 - val_loss: 0.6042 - val_accuracy: 0.6781\n",
      "Epoch 13/25\n",
      "1385142/1385142 [==============================] - 117s 85us/step - loss: 0.6043 - accuracy: 0.6773 - val_loss: 0.6024 - val_accuracy: 0.6793\n",
      "Epoch 14/25\n",
      "1385142/1385142 [==============================] - 116s 84us/step - loss: 0.6040 - accuracy: 0.6779 - val_loss: 0.6049 - val_accuracy: 0.6751\n",
      "Epoch 15/25\n",
      "1385142/1385142 [==============================] - 121s 87us/step - loss: 0.6043 - accuracy: 0.6776 - val_loss: 0.6057 - val_accuracy: 0.6761\n",
      "Epoch 16/25\n",
      "1385142/1385142 [==============================] - 120s 87us/step - loss: 0.6044 - accuracy: 0.6776 - val_loss: 0.6049 - val_accuracy: 0.6779\n",
      "Epoch 17/25\n",
      "1385142/1385142 [==============================] - 118s 85us/step - loss: 0.6042 - accuracy: 0.6779 - val_loss: 0.6040 - val_accuracy: 0.6767\n",
      "Epoch 18/25\n",
      "1385142/1385142 [==============================] - 108s 78us/step - loss: 0.6042 - accuracy: 0.6779 - val_loss: 0.6041 - val_accuracy: 0.6791\n",
      "Epoch 19/25\n",
      "1385142/1385142 [==============================] - 108s 78us/step - loss: 0.6041 - accuracy: 0.6779 - val_loss: 0.6030 - val_accuracy: 0.6770\n",
      "Epoch 20/25\n",
      "1385142/1385142 [==============================] - 105s 76us/step - loss: 0.6041 - accuracy: 0.6778 - val_loss: 0.6059 - val_accuracy: 0.6774\n",
      "Epoch 21/25\n",
      "1385142/1385142 [==============================] - 122s 88us/step - loss: 0.6048 - accuracy: 0.6773 - val_loss: 0.6074 - val_accuracy: 0.6752\n",
      "Epoch 22/25\n",
      "1385142/1385142 [==============================] - 103s 74us/step - loss: 0.6050 - accuracy: 0.6773 - val_loss: 0.6050 - val_accuracy: 0.6790\n",
      "Epoch 23/25\n",
      "1385142/1385142 [==============================] - 104s 75us/step - loss: 0.6040 - accuracy: 0.6779 - val_loss: 0.6032 - val_accuracy: 0.6797\n",
      "Epoch 24/25\n",
      "1385142/1385142 [==============================] - 103s 74us/step - loss: 0.6044 - accuracy: 0.6775 - val_loss: 0.6050 - val_accuracy: 0.6782\n",
      "Epoch 25/25\n",
      "1385142/1385142 [==============================] - 104s 75us/step - loss: 0.6050 - accuracy: 0.6772 - val_loss: 0.6043 - val_accuracy: 0.6755\n"
     ]
    }
   ],
   "source": [
    "def create_baseline():\n",
    "    model = Sequential()\n",
    "    model.add(Dense(len(desiredChars), input_dim=len(desiredChars), activation = 'relu', kernel_regularizer='l2'))\n",
    "    model.add(Dense(200, activation = 'relu', activity_regularizer=regularizers.l2(1e-5)))\n",
    "    model.add(Dense(200, activation = 'relu', activity_regularizer=regularizers.l2(1e-5)))\n",
    "    model.add(Dense(200, activation = 'relu', activity_regularizer=regularizers.l2(1e-5)))\n",
    "    model.add(Dense(200, activation = 'relu', activity_regularizer=regularizers.l2(1e-5)))\n",
    "    model.add(Dense(200, activation = 'relu', activity_regularizer=regularizers.l2(1e-5)))\n",
    "    model.add(Dense(200, activation = 'relu', activity_regularizer=regularizers.l2(1e-5)))\n",
    "    model.add(Dense(200, activation = 'relu', activity_regularizer=regularizers.l2(1e-5)))\n",
    "    model.add(Dense(200, activation = 'relu', activity_regularizer=regularizers.l2(1e-5)))\n",
    "    model.add(Dense(len(desiredChars), activation = 'relu', activity_regularizer=regularizers.l2(1e-5)))\n",
    "    model.add(Dense(1, activation='sigmoid'))\n",
    "    model.compile(loss='binary_crossentropy', optimizer='adam', metrics = ['accuracy'])\n",
    "    return model\n",
    "\n",
    "baseline_model = create_baseline()\n",
    "history = baseline_model.fit(trainX, trainY, validation_data=(testX, testY), batch_size=256, epochs=25, verbose=1)\n",
    "_, train_acc = baseline_model.evaluate(trainX, trainY, verbose=0)\n",
    "_, test_acc = baseline_model.evaluate(testX, testY, verbose=0)\n",
    "\n"
   ]
  },
  {
   "cell_type": "code",
   "execution_count": 37,
   "metadata": {},
   "outputs": [
    {
     "name": "stdout",
     "output_type": "stream",
     "text": [
      "In plotting\n"
     ]
    },
    {
     "data": {
      "image/png": "[encoded data removed]",
      "text/plain": [
       "<Figure size 432x288 with 2 Axes>"
      ]
     },
     "metadata": {
      "needs_background": "light"
     },
     "output_type": "display_data"
    },
    {
     "data": {
      "image/png": "[encoded data removed]",
      "text/plain": [
       "<Figure size 432x288 with 2 Axes>"
      ]
     },
     "metadata": {
      "needs_background": "light"
     },
     "output_type": "display_data"
    }
   ],
   "source": [
    "# plot loss during training\n",
    "print(\"In plotting\")\n",
    "pyplot.subplot(211)\n",
    "pyplot.title('Loss')\n",
    "pyplot.plot(history.history['loss'], label='train')\n",
    "pyplot.plot(history.history['val_loss'], label='test')\n",
    "pyplot.legend()\n",
    "pyplot.subplots_adjust(hspace=0.5)\n",
    "# plot accuracy during training\n",
    "pyplot.subplot(212)\n",
    "pyplot.title('Accuracy')\n",
    "pyplot.plot(history.history['accuracy'], label='train')\n",
    "pyplot.plot(history.history['val_accuracy'], label='test')\n",
    "pyplot.legend()\n",
    "pyplot.show()\n",
    "pyplot.subplot(211)\n",
    "pyplot.title('Loss')\n",
    "pyplot.plot(history.history['loss'], label='train')\n",
    "pyplot.plot(history.history['val_loss'], label='test')\n",
    "pyplot.legend()\n",
    "pyplot.subplots_adjust(hspace=0.5)\n",
    "# plot accuracy during training\n",
    "pyplot.subplot(212)\n",
    "pyplot.title('Accuracy')\n",
    "pyplot.plot(history.history['accuracy'], label='train')\n",
    "pyplot.plot(history.history['val_accuracy'], label='test')\n",
    "pyplot.legend()\n",
    "pyplot.show()"
   ]
  },
  {
   "cell_type": "code",
   "execution_count": 38,
   "metadata": {},
   "outputs": [
    {
     "name": "stdout",
     "output_type": "stream",
     "text": [
      "13975\n",
      "Accuracy: 0.675541\n",
      "Precision: 0.730877\n",
      "Recall: 0.339257\n",
      "F1 score: 0.463409\n"
     ]
    }
   ],
   "source": [
    "# Setting up our Metrics Functions.  The key idea is we use our fitted baseline_predictor to make predictions.\n",
    "# We use Keras's inbuilt predict functions() to first make predictions \n",
    "yhat_probs = baseline_model.predict(testX, verbose=0)\n",
    "yhat_classes = baseline_model.predict_classes(testX, verbose=0)\n",
    "# The above returns a 2D array, one row for each example in test dataset, and one column for prediction\n",
    "yhat_probs = yhat_probs[:, 0]\n",
    "yhat_classes = yhat_classes[:, 0]\n",
    "print(np.sum(yhat_classes))\n",
    "\n",
    "accuracy = accuracy_score(testY, yhat_classes)\n",
    "print('Accuracy: %f' % accuracy)\n",
    "# precision tp / (tp + fp)\n",
    "precision = precision_score(testY, yhat_classes)\n",
    "print('Precision: %f' % precision)\n",
    "# recall: tp / (tp + fn)\n",
    "recall = recall_score(testY, yhat_classes)\n",
    "print('Recall: %f' % recall)\n",
    "# f1: 2 tp / (2 tp + fp + fn)\n",
    "f1 = f1_score(testY, yhat_classes)\n",
    "print('F1 score: %f' % f1)\n",
    "\n",
    "\n",
    "\n"
   ]
  },
  {
   "cell_type": "code",
   "execution_count": 39,
   "metadata": {},
   "outputs": [
    {
     "name": "stdout",
     "output_type": "stream",
     "text": [
      "261673\n",
      "Accuracy: 0.677374\n",
      "Precision: 0.733828\n",
      "Recall: 0.337323\n",
      "F1 score: 0.462189\n"
     ]
    }
   ],
   "source": [
    "yhat_classes = baseline_model.predict_classes(trainX, verbose=0)\n",
    "# The above returns a 2D array, one row for each example in test dataset, and one column for prediction\n",
    "# yhat_probs = yhat_probs[:, 0]\n",
    "yhat_classes = yhat_classes[:, 0]\n",
    "print(np.sum(yhat_classes))\n",
    "\n",
    "accuracy = accuracy_score(trainY, yhat_classes)\n",
    "print('Accuracy: %f' % accuracy)\n",
    "# precision tp / (tp + fp)\n",
    "precision = precision_score(trainY, yhat_classes)\n",
    "print('Precision: %f' % precision)\n",
    "# recall: tp / (tp + fn)\n",
    "recall = recall_score(trainY, yhat_classes)\n",
    "print('Recall: %f' % recall)\n",
    "# f1: 2 tp / (2 tp + fp + fn)\n",
    "f1 = f1_score(trainY, yhat_classes)\n",
    "print('F1 score: %f' % f1)\n"
   ]
  },
  {
   "cell_type": "code",
   "execution_count": 40,
   "metadata": {},
   "outputs": [
    {
     "name": "stdout",
     "output_type": "stream",
     "text": [
      "No Skill: ROC AUC=0.500\n",
      "Logistic: ROC AUC=0.716\n"
     ]
    },
    {
     "data": {
      "image/png": "[encoded data removed]",
      "text/plain": [
       "<Figure size 432x288 with 1 Axes>"
      ]
     },
     "metadata": {
      "needs_background": "light"
     },
     "output_type": "display_data"
    }
   ],
   "source": [
    "## Final metric is an ROC measure/curve...\n",
    "ns_probs = [0 for _ in range(len(testY))]\n",
    "deepNN_probs = yhat_probs\n",
    "ns_auc = roc_auc_score(testY, ns_probs)\n",
    "deepNN_auc = roc_auc_score(testY, deepNN_probs)\n",
    "# summarize scores\n",
    "print('No Skill: ROC AUC=%.3f' % (ns_auc))\n",
    "print('Logistic: ROC AUC=%.3f' % (deepNN_auc))\n",
    "# calculate roc curves\n",
    "ns_fpr, ns_tpr, _ = roc_curve(testY, ns_probs)\n",
    "deepNN_fpr, deepNN_tpr, _ = roc_curve(testY, deepNN_probs)\n",
    "# plot the roc curve for the model\n",
    "pyplot.plot(ns_fpr, ns_tpr, linestyle='--', label='No Skill')\n",
    "pyplot.plot(deepNN_fpr, deepNN_tpr, marker='.', label='Logistic')\n",
    "# axis labels\n",
    "pyplot.xlabel('False Positive Rate')\n",
    "pyplot.ylabel('True Positive Rate')\n",
    "# show the legend\n",
    "pyplot.legend()\n",
    "# show the plot\n",
    "pyplot.show()"
   ]
  },
  {
   "cell_type": "code",
   "execution_count": null,
   "metadata": {},
   "outputs": [],
   "source": []
  }
 ],
 "metadata": {
  "kernelspec": {
   "display_name": "Python 3",
   "language": "python",
   "name": "python3"
  }
 },
 "nbformat": 4,
 "nbformat_minor": 4
}
