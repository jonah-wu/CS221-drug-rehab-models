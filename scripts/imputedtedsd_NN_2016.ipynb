{
 "cells": [
  {
   "cell_type": "code",
   "execution_count": 2,
   "metadata": {},
   "outputs": [
    {
     "name": "stderr",
     "output_type": "stream",
     "text": [
      "Using TensorFlow backend.\n"
     ]
    }
   ],
   "source": [
    "import pandas as pd\n",
    "import numpy as np\n",
    "from keras.models import Sequential\n",
    "from keras.layers import Dense\n",
    "from keras.wrappers.scikit_learn import KerasClassifier\n",
    "from sklearn.model_selection import cross_val_score\n",
    "from sklearn.preprocessing import LabelEncoder\n",
    "from sklearn.model_selection import StratifiedKFold\n",
    "from sklearn.preprocessing import StandardScaler\n",
    "from sklearn.pipeline import Pipeline\n",
    "from matplotlib import pyplot\n",
    "from keras import regularizers\n",
    "from sklearn.metrics import roc_curve\n",
    "from sklearn.metrics import roc_auc_score\n",
    "from sklearn.metrics import accuracy_score\n",
    "from sklearn.metrics import precision_score\n",
    "from sklearn.metrics import recall_score\n",
    "from sklearn.metrics import f1_score"
   ]
  },
  {
   "cell_type": "code",
   "execution_count": 3,
   "metadata": {},
   "outputs": [
    {
     "name": "stdout",
     "output_type": "stream",
     "text": [
      "(499992, 246)\n"
     ]
    }
   ],
   "source": [
    "df1 = pd.read_csv(\"../data/imputed/imputed_all.csv\")\n",
    "print(df1.shape)\n",
    "reasonField = pd.read_csv(\"../data/imputed/imputed_reason.csv\")\n",
    "df1[\"REASON\"] = reasonField[\"REASON\"]\n",
    "df2 = pd.read_csv(\"../data/imputed/imputation_dev.csv\")\n",
    "\n",
    "train_set = df1.to_numpy()\n",
    "dev_set = df2.to_numpy()\n"
   ]
  },
  {
   "cell_type": "code",
   "execution_count": 4,
   "metadata": {},
   "outputs": [
    {
     "name": "stdout",
     "output_type": "stream",
     "text": [
      "(499992, 247)\n",
      "(50000, 247)\n"
     ]
    }
   ],
   "source": [
    "print(df1.shape)\n",
    "print(df2.shape)"
   ]
  },
  {
   "cell_type": "code",
   "execution_count": null,
   "metadata": {},
   "outputs": [],
   "source": []
  },
  {
   "cell_type": "code",
   "execution_count": 5,
   "metadata": {},
   "outputs": [
    {
     "name": "stdout",
     "output_type": "stream",
     "text": [
      "{'priminc_wages': 0, 'priminc_public': 1, 'priminc_retirement': 2, 'priminc_other': 3, 'priminc_none': 4, 'priminc_unknown': 5, 'age_approx': 6, 'educ_approx': 7, 'daywait_approx': 8, 'firstuse1_approx': 9, 'firstuse2_approx': 10, 'freq_atnd_self_help_approx': 11, 'gender_male': 12, 'gender_female': 13, 'gender_unknown': 14, 'race_alaska': 15, 'race_native': 16, 'race_asian': 17, 'race_black': 18, 'race_white': 19, 'race_single': 20, 'race_multiple': 21, 'race_unknown': 22, 'ethnic_puerto': 23, 'ethnic_mexican': 24, 'ethnic_cuban': 25, 'ethnic_none': 26, 'ethnic_latino': 27, 'ethnic_unknown': 28, 'marstat_single': 29, 'marstat_married': 30, 'marstat_separated': 31, 'marstat_divorced': 32, 'marstat_unknown': 33, 'employ_full': 34, 'employ_part': 35, 'employ_nlf': 36, 'employ_unemployed': 37, 'employ_unknown': 38, 'pregnant': 39, 'preg_unknown': 40, 'veteran': 41, 'vet_unknown': 42, 'livarag_homeless': 43, 'livarag_dependent': 44, 'livarag_independent': 45, 'livarag_unknown': 46, 'stfips_al': 47, 'stfips_ak': 48, 'stfips_az': 49, 'stfips_ar': 50, 'stfips_ca': 51, 'stfips_co': 52, 'stfips_ct': 53, 'stfips_de': 54, 'stfips_dc': 55, 'stfips_fl': 56, 'stfips_hi': 57, 'stfips_id': 58, 'stfips_il': 59, 'stfips_in': 60, 'stfips_ia': 61, 'stfips_ks': 62, 'stfips_ky': 63, 'stfips_la': 64, 'stfips_me': 65, 'stfips_md': 66, 'stfips_ma': 67, 'stfips_mi': 68, 'stfips_mn': 69, 'stfips_ms': 70, 'stfips_mo': 71, 'stfips_mt': 72, 'stfips_ne': 73, 'stfips_nv': 74, 'stfips_nh': 75, 'stfips_nj': 76, 'stfips_nm': 77, 'stfips_ny': 78, 'stfips_nc': 79, 'stfips_nd': 80, 'stfips_oh': 81, 'stfips_ok': 82, 'stfips_pa': 83, 'stfips_ri': 84, 'stfips_sc': 85, 'stfips_sd': 86, 'stfips_tn': 87, 'stfips_tx': 88, 'stfips_ut': 89, 'stfips_vt': 90, 'stfips_va': 91, 'stfips_wa': 92, 'stfips_wi': 93, 'stfips_wy': 94, 'stfips_pc': 95, 'region_territory': 96, 'region_ne': 97, 'region_midwest': 98, 'region_south': 99, 'region_west': 100, 'division_territory': 101, 'division_ne': 102, 'division_ma': 103, 'division_enc': 104, 'division_wnc': 105, 'division_sa': 106, 'division_esc': 107, 'division_wsc': 108, 'division_mt': 109, 'division_pc': 110, 'service_dt_24_h': 111, 'service_dt_24_r': 112, 'service_re_h': 113, 'service_re_short': 114, 'service_re_long': 115, 'service_amb_in': 116, 'service_amb_nin': 117, 'service_amb_dt': 118, 'methuse': 119, 'methuse_unknown': 120, 'psource_individual': 121, 'psource_alc_drug': 122, 'psource_health': 123, 'psource_school': 124, 'psource_employer': 125, 'psource_community': 126, 'psource_court': 127, 'psource_unknown': 128, 'sub1_none': 129, 'sub1_alcohol': 130, 'sub1_cocaine': 131, 'sub1_weed': 132, 'sub1_heroin': 133, 'sub1_methadone': 134, 'sub1_opiates': 135, 'sub1_pcp': 136, 'sub1_hallucinogens': 137, 'sub1_meth': 138, 'sub1_amphetamines': 139, 'sub1_stimulants': 140, 'sub1_benzos': 141, 'sub1_tranqs': 142, 'sub1_barbiturates': 143, 'sub1_sedatives': 144, 'sub1_inhalants': 145, 'sub1_otc': 146, 'sub1_other': 147, 'sub1_unknown': 148, 'route1_oral': 149, 'route1_smoke': 150, 'route1_inhalation': 151, 'route1_injection': 152, 'route1_other': 153, 'route1_unknown': 154, 'freq1_none': 155, 'freq1_some': 156, 'freq1_daily': 157, 'freq1_unknown': 158, 'sub2_none': 159, 'sub2_alcohol': 160, 'sub2_cocaine': 161, 'sub2_weed': 162, 'sub2_heroin': 163, 'sub2_methadone': 164, 'sub2_opiates': 165, 'sub2_pcp': 166, 'sub2_hallucinogens': 167, 'sub2_meth': 168, 'sub2_amphetamines': 169, 'sub2_stimulants': 170, 'sub2_benzos': 171, 'sub2_tranqs': 172, 'sub2_barbiturates': 173, 'sub2_sedatives': 174, 'sub2_inhalants': 175, 'sub2_otc': 176, 'sub2_other': 177, 'sub2_unknown': 178, 'route2_oral': 179, 'route2_smoke': 180, 'route2_inhalation': 181, 'route2_injection': 182, 'route2_other': 183, 'route2_unknown': 184, 'freq2_none': 185, 'freq2_some': 186, 'freq2_daily': 187, 'freq2_unknown': 188, 'sub3_none': 189, 'sub3_alcohol': 190, 'sub3_cocaine': 191, 'sub3_weed': 192, 'sub3_heroin': 193, 'sub3_methadone': 194, 'sub3_opiates': 195, 'sub3_pcp': 196, 'sub3_hallucinogens': 197, 'sub3_meth': 198, 'sub3_amphetamines': 199, 'sub3_stimulants': 200, 'sub3_benzos': 201, 'sub3_tranqs': 202, 'sub3_barbiturates': 203, 'sub3_sedatives': 204, 'sub3_inhalants': 205, 'sub3_otc': 206, 'sub3_other': 207, 'sub3_unknown': 208, 'route3_oral': 209, 'route3_smoke': 210, 'route3_inhalation': 211, 'route3_injection': 212, 'route3_other': 213, 'route3_unknown': 214, 'freq3_none': 215, 'freq3_some': 216, 'freq3_daily': 217, 'freq3_unknown': 218, 'alcdrug_none': 219, 'alcdrug_alc': 220, 'alcdrug_drug': 221, 'alcdrug_both': 222, 'NOPRIOR': 223, 'ARRESTS': 224, 'PSYPROB': 225, 'DSMCRIT': 226, 'ALCFLG': 227, 'COKEFLG': 228, 'MARFLG': 229, 'HERFLG': 230, 'METHFLG': 231, 'OPSYNFLG': 232, 'PCPFLG': 233, 'HALLFLG': 234, 'MTHAMFLG': 235, 'AMPHFLG': 236, 'STIMFLG': 237, 'BENZFLG': 238, 'TRNQFLG': 239, 'BARBFLG': 240, 'SEDHPFLG': 241, 'INHFLG': 242, 'OTCFLG': 243, 'OTHERFLG': 244, 'IDU': 245, 'REASON': 246}\n",
      "[3. 1. 3. 1. 1. 1. 3. 2. 3. 5. 3. 2. 7. 3. 3. 2. 3. 3. 5. 3. 1. 3. 4. 2.\n",
      " 4. 4. 6. 4. 2. 7. 2. 3. 2. 2. 2. 2. 3. 5. 4. 3. 3. 4. 1. 4. 3. 1. 3. 2.\n",
      " 1. 3. 2. 2. 3. 4. 1. 3. 3. 3. 1. 3. 3. 1. 3. 4. 1. 2. 3. 3. 3. 3. 1. 3.\n",
      " 2. 1. 4. 3. 3. 3. 3. 3. 2. 3. 3. 1. 4. 1. 3. 1. 2. 3. 1. 3. 2. 3. 3. 3.\n",
      " 2. 3. 3. 3.]\n",
      "['service_dt_24_r', 'service_amb_nin', 'service_amb_in', 'service_re_short', 'methuse', 'psource_court', 'stfips_co', 'region_midwest', 'region_west', 'stfips_ky', 'division_mt', 'stfips_fl', 'employ_full', 'stfips_mo', 'division_sa', 'freq1_none', 'division_esc', 'division_enc', 'stfips_nj', 'psource_health', 'sub1_alcohol', 'livarag_unknown', 'stfips_md', 'ARRESTS', 'livarag_homeless', 'ALCFLG', 'race_white', 'priminc_unknown', 'psource_individual', 'region_ne', 'vet_unknown', 'marstat_single', 'sub2_none', 'priminc_wages', 'stfips_mi', 'service_re_long', 'livarag_dependent', 'sub1_weed', 'stfips_ny', 'gender_female', 'stfips_la', 'division_wnc', 'stfips_ne', 'priminc_public', 'race_black', 'OPSYNFLG', 'stfips_il', 'route1_inhalation', 'stfips_sc', 'route1_smoke', 'sub1_opiates', 'stfips_az', 'sub1_heroin', 'BENZFLG', 'ethnic_mexican', 'freq2_daily', 'route1_injection', 'sub1_unknown', 'route1_oral', 'stfips_ct', 'freq2_some', 'division_ma', 'stfips_tn', 'stfips_ks', 'division_ne', 'service_dt_24_h', 'sub1_none', 'marstat_married', 'sub3_unknown', 'sub2_weed', 'IDU', 'priminc_retirement', 'HERFLG', 'methuse_unknown', 'freq1_daily']\n",
      "(499992, 75)\n",
      "(50000, 75)\n",
      "(499992,)\n",
      "(50000, 1)\n",
      "[0 1 0 1 1 1 0 0 0 0 0 0 0 0 0 0 0 0 0 0 1 0 0 0 0 0 0 0 0 0 0 0 0 0 0 0 0\n",
      " 0 0 0 0 0 1 0 0 1 0 0 1 0 0 0 0 0 1 0 0 0 1 0 0 1 0 0 1 0 0 0 0 0 1 0 0 1\n",
      " 0 0 0 0 0 0 0 0 0 1 0 1 0 1 0 0 1 0 0 0 0 0 0 0 0 0 0 0 0 1 1 1 0 0 0 0 0\n",
      " 0 0 0 0 0 0 0 0 0 0 0 0 0 1 0 0 0 0 0 0 0 0 0 0 0 0 0 0 0 0 1 1 0 0 1 0 0\n",
      " 0 0 0 0 0 0 0 0 0 0 0 0 1 1 0 1 1 0 0 1 0 0 0 0 1 1 0 0 0 0 0 0 0 1 0 0 0\n",
      " 0 1 0 0 0 0 0 0 0 0 1 0 0 0 0]\n"
     ]
    }
   ],
   "source": [
    "\n",
    "dataFields = {}\n",
    "for x in range(len(df1.columns)):\n",
    "\tdataFields.update({df1.columns[x]: x})\n",
    "print(dataFields)\n",
    "indx = dataFields[\"REASON\"]\n",
    "y_train = train_set[:,246]\n",
    "print(y_train[0:100])\n",
    "y_dev = dev_set[:,[indx]]\n",
    "# Set to binary classification problem\n",
    "y_train = np.select([(y_train == 1)], [1] , default = 0)\n",
    "y_dev = np.select([(y_dev == 1)], [1] , default = 0)\n",
    "\n",
    "featureWeights = pd.read_csv(\"../data/rankedFeatures.csv\")\n",
    "fields = list(featureWeights[\"field\"])\n",
    "desiredChars = [fields[x] for x in range(75)]\n",
    "print(desiredChars)\n",
    "indxsToDelete = []\n",
    "for key, value in dataFields.items():\n",
    "    if key not in desiredChars:\n",
    "        indxsToDelete.append(value)\n",
    "# Delete the reason field for now\n",
    "\n",
    "X_train = np.delete(train_set, indxsToDelete, 1)\n",
    "X_dev = np.delete(dev_set, indxsToDelete, 1)\n",
    "\n",
    "print(X_train.shape)\n",
    "print(X_dev.shape)\n",
    "print(y_train.shape)\n",
    "print(y_dev.shape)\n",
    "print(y_train[0:200])"
   ]
  },
  {
   "cell_type": "code",
   "execution_count": 8,
   "metadata": {},
   "outputs": [
    {
     "name": "stdout",
     "output_type": "stream",
     "text": [
      "Train on 499992 samples, validate on 50000 samples\n",
      "Epoch 1/100\n",
      "499992/499992 [==============================] - 20s 39us/step - loss: 0.6297 - accuracy: 0.6814 - val_loss: 0.6690 - val_accuracy: 0.6441\n",
      "Epoch 2/100\n",
      "499992/499992 [==============================] - 21s 41us/step - loss: 0.5866 - accuracy: 0.6876 - val_loss: 0.8080 - val_accuracy: 0.6051\n",
      "Epoch 3/100\n",
      "499992/499992 [==============================] - 21s 42us/step - loss: 0.5825 - accuracy: 0.6894 - val_loss: 0.9335 - val_accuracy: 0.6093\n",
      "Epoch 4/100\n",
      "499992/499992 [==============================] - 21s 42us/step - loss: 0.5800 - accuracy: 0.6907 - val_loss: 1.0283 - val_accuracy: 0.6097\n",
      "Epoch 5/100\n",
      "499992/499992 [==============================] - 21s 42us/step - loss: 0.5788 - accuracy: 0.6917 - val_loss: 1.1831 - val_accuracy: 0.6059\n",
      "Epoch 6/100\n",
      "499992/499992 [==============================] - 21s 41us/step - loss: 0.5771 - accuracy: 0.6943 - val_loss: 1.8759 - val_accuracy: 0.6105\n",
      "Epoch 7/100\n",
      "499992/499992 [==============================] - 20s 41us/step - loss: 0.5760 - accuracy: 0.6957 - val_loss: 3.0244 - val_accuracy: 0.6109\n",
      "Epoch 8/100\n",
      "499992/499992 [==============================] - 21s 42us/step - loss: 0.5754 - accuracy: 0.6964 - val_loss: 2.6399 - val_accuracy: 0.6072\n",
      "Epoch 9/100\n",
      "499992/499992 [==============================] - 22s 44us/step - loss: 0.5749 - accuracy: 0.6968 - val_loss: 2.3052 - val_accuracy: 0.6179\n",
      "Epoch 10/100\n",
      "499992/499992 [==============================] - 22s 43us/step - loss: 0.5748 - accuracy: 0.6971 - val_loss: 3.0644 - val_accuracy: 0.6247\n",
      "Epoch 11/100\n",
      "499992/499992 [==============================] - 25s 49us/step - loss: 0.5744 - accuracy: 0.6974 - val_loss: 2.5710 - val_accuracy: 0.6117\n",
      "Epoch 12/100\n",
      "499992/499992 [==============================] - 25s 50us/step - loss: 0.5736 - accuracy: 0.6984 - val_loss: 2.4961 - val_accuracy: 0.6103\n",
      "Epoch 13/100\n",
      "499992/499992 [==============================] - 28s 57us/step - loss: 0.5732 - accuracy: 0.6988 - val_loss: 2.3501 - val_accuracy: 0.6090\n",
      "Epoch 14/100\n",
      "499992/499992 [==============================] - 25s 50us/step - loss: 0.5729 - accuracy: 0.6990 - val_loss: 2.6394 - val_accuracy: 0.6094\n",
      "Epoch 15/100\n",
      "499992/499992 [==============================] - 26s 52us/step - loss: 0.5730 - accuracy: 0.6989 - val_loss: 2.7943 - val_accuracy: 0.6167\n",
      "Epoch 16/100\n",
      "499992/499992 [==============================] - 26s 51us/step - loss: 0.5730 - accuracy: 0.6988 - val_loss: 2.9443 - val_accuracy: 0.6087\n",
      "Epoch 17/100\n",
      "499992/499992 [==============================] - 27s 55us/step - loss: 0.5725 - accuracy: 0.6991 - val_loss: 2.8450 - val_accuracy: 0.6146\n",
      "Epoch 18/100\n",
      "499992/499992 [==============================] - 26s 52us/step - loss: 0.5725 - accuracy: 0.6992 - val_loss: 2.3439 - val_accuracy: 0.6215\n",
      "Epoch 19/100\n",
      "499992/499992 [==============================] - 25s 51us/step - loss: 0.5724 - accuracy: 0.6993 - val_loss: 2.6235 - val_accuracy: 0.6177\n",
      "Epoch 20/100\n",
      "499992/499992 [==============================] - 26s 53us/step - loss: 0.5723 - accuracy: 0.6999 - val_loss: 2.4542 - val_accuracy: 0.6072\n",
      "Epoch 21/100\n",
      "499992/499992 [==============================] - 22s 45us/step - loss: 0.5723 - accuracy: 0.6990 - val_loss: 2.2540 - val_accuracy: 0.6110\n",
      "Epoch 22/100\n",
      "499992/499992 [==============================] - 23s 45us/step - loss: 0.5719 - accuracy: 0.6997 - val_loss: 2.5999 - val_accuracy: 0.6312\n",
      "Epoch 23/100\n",
      "499992/499992 [==============================] - 21s 43us/step - loss: 0.5720 - accuracy: 0.6996 - val_loss: 2.1162 - val_accuracy: 0.6214\n",
      "Epoch 24/100\n",
      "499992/499992 [==============================] - 24s 47us/step - loss: 0.5718 - accuracy: 0.6999 - val_loss: 2.4123 - val_accuracy: 0.6181\n",
      "Epoch 25/100\n",
      "499992/499992 [==============================] - 23s 47us/step - loss: 0.5720 - accuracy: 0.6996 - val_loss: 2.0837 - val_accuracy: 0.6193\n",
      "Epoch 26/100\n",
      "499992/499992 [==============================] - 28s 55us/step - loss: 0.5717 - accuracy: 0.6998 - val_loss: 2.3403 - val_accuracy: 0.6116\n",
      "Epoch 27/100\n",
      "499992/499992 [==============================] - 26s 52us/step - loss: 0.5717 - accuracy: 0.6998 - val_loss: 1.9692 - val_accuracy: 0.6115\n",
      "Epoch 28/100\n",
      "499992/499992 [==============================] - 24s 48us/step - loss: 0.5716 - accuracy: 0.7000 - val_loss: 2.1413 - val_accuracy: 0.6145\n",
      "Epoch 29/100\n",
      "499992/499992 [==============================] - 29s 57us/step - loss: 0.5718 - accuracy: 0.7002 - val_loss: 1.9896 - val_accuracy: 0.6057\n",
      "Epoch 30/100\n",
      "499992/499992 [==============================] - 26s 52us/step - loss: 0.5715 - accuracy: 0.6999 - val_loss: 2.1646 - val_accuracy: 0.6127\n",
      "Epoch 31/100\n",
      "499992/499992 [==============================] - 28s 56us/step - loss: 0.5715 - accuracy: 0.6999 - val_loss: 2.1943 - val_accuracy: 0.6100\n",
      "Epoch 32/100\n",
      "499992/499992 [==============================] - 28s 57us/step - loss: 0.5713 - accuracy: 0.6999 - val_loss: 2.1463 - val_accuracy: 0.6257\n",
      "Epoch 33/100\n",
      "499992/499992 [==============================] - 33s 66us/step - loss: 0.5711 - accuracy: 0.7003 - val_loss: 2.3938 - val_accuracy: 0.6132\n",
      "Epoch 34/100\n",
      "499992/499992 [==============================] - 26s 53us/step - loss: 0.5715 - accuracy: 0.7000 - val_loss: 2.1796 - val_accuracy: 0.6213\n",
      "Epoch 35/100\n",
      "499992/499992 [==============================] - 26s 53us/step - loss: 0.5712 - accuracy: 0.7008 - val_loss: 1.8511 - val_accuracy: 0.6268\n",
      "Epoch 36/100\n",
      "499992/499992 [==============================] - 28s 55us/step - loss: 0.5712 - accuracy: 0.7008 - val_loss: 2.1283 - val_accuracy: 0.6182\n",
      "Epoch 37/100\n",
      "499992/499992 [==============================] - 27s 54us/step - loss: 0.5713 - accuracy: 0.7010 - val_loss: 1.8962 - val_accuracy: 0.6136\n",
      "Epoch 38/100\n",
      "499992/499992 [==============================] - 27s 55us/step - loss: 0.5713 - accuracy: 0.7005 - val_loss: 2.2018 - val_accuracy: 0.6139\n",
      "Epoch 39/100\n",
      "499992/499992 [==============================] - 29s 59us/step - loss: 0.5710 - accuracy: 0.7008 - val_loss: 2.2687 - val_accuracy: 0.6166\n",
      "Epoch 40/100\n",
      "499992/499992 [==============================] - 28s 56us/step - loss: 0.5706 - accuracy: 0.7015 - val_loss: 2.3484 - val_accuracy: 0.6132\n",
      "Epoch 41/100\n",
      "499992/499992 [==============================] - 26s 51us/step - loss: 0.5710 - accuracy: 0.7004 - val_loss: 2.1405 - val_accuracy: 0.6118\n",
      "Epoch 42/100\n",
      "499992/499992 [==============================] - 29s 59us/step - loss: 0.5707 - accuracy: 0.7009 - val_loss: 2.1471 - val_accuracy: 0.6120\n",
      "Epoch 43/100\n",
      "499992/499992 [==============================] - 28s 55us/step - loss: 0.5707 - accuracy: 0.7008 - val_loss: 2.1130 - val_accuracy: 0.6097\n",
      "Epoch 44/100\n",
      "499992/499992 [==============================] - 28s 55us/step - loss: 0.5703 - accuracy: 0.7012 - val_loss: 2.1925 - val_accuracy: 0.6107\n",
      "Epoch 45/100\n",
      "499992/499992 [==============================] - 27s 54us/step - loss: 0.5707 - accuracy: 0.7012 - val_loss: 1.8416 - val_accuracy: 0.6087\n",
      "Epoch 46/100\n",
      "499992/499992 [==============================] - 28s 56us/step - loss: 0.5707 - accuracy: 0.7011 - val_loss: 1.9620 - val_accuracy: 0.6094\n",
      "Epoch 47/100\n",
      "499992/499992 [==============================] - 27s 54us/step - loss: 0.5706 - accuracy: 0.7005 - val_loss: 1.9708 - val_accuracy: 0.6145\n",
      "Epoch 48/100\n",
      "499992/499992 [==============================] - 29s 59us/step - loss: 0.5704 - accuracy: 0.7013 - val_loss: 1.8601 - val_accuracy: 0.6226\n",
      "Epoch 49/100\n",
      "499992/499992 [==============================] - 30s 60us/step - loss: 0.5706 - accuracy: 0.7010 - val_loss: 1.9986 - val_accuracy: 0.6145\n",
      "Epoch 50/100\n",
      "499992/499992 [==============================] - 29s 58us/step - loss: 0.5704 - accuracy: 0.7010 - val_loss: 1.9765 - val_accuracy: 0.6136\n",
      "Epoch 51/100\n",
      "499992/499992 [==============================] - 29s 57us/step - loss: 0.5702 - accuracy: 0.7016 - val_loss: 1.9275 - val_accuracy: 0.6167\n",
      "Epoch 52/100\n",
      "499992/499992 [==============================] - 28s 57us/step - loss: 0.5699 - accuracy: 0.7012 - val_loss: 2.1430 - val_accuracy: 0.6213\n",
      "Epoch 53/100\n",
      "499992/499992 [==============================] - 29s 57us/step - loss: 0.5702 - accuracy: 0.7013 - val_loss: 2.0231 - val_accuracy: 0.6106\n",
      "Epoch 54/100\n"
     ]
    },
    {
     "name": "stdout",
     "output_type": "stream",
     "text": [
      "499992/499992 [==============================] - 25s 50us/step - loss: 0.5703 - accuracy: 0.7009 - val_loss: 2.2283 - val_accuracy: 0.6142\n",
      "Epoch 55/100\n",
      "499992/499992 [==============================] - 27s 55us/step - loss: 0.5701 - accuracy: 0.7013 - val_loss: 2.0255 - val_accuracy: 0.6071\n",
      "Epoch 56/100\n",
      "499992/499992 [==============================] - 29s 57us/step - loss: 0.5705 - accuracy: 0.7011 - val_loss: 2.1362 - val_accuracy: 0.6152\n",
      "Epoch 57/100\n",
      "499992/499992 [==============================] - 27s 54us/step - loss: 0.5704 - accuracy: 0.7009 - val_loss: 2.2924 - val_accuracy: 0.6087\n",
      "Epoch 58/100\n",
      "499992/499992 [==============================] - 26s 52us/step - loss: 0.5702 - accuracy: 0.7015 - val_loss: 2.1079 - val_accuracy: 0.6059\n",
      "Epoch 59/100\n",
      "499992/499992 [==============================] - 27s 54us/step - loss: 0.5704 - accuracy: 0.7011 - val_loss: 1.9601 - val_accuracy: 0.6134\n",
      "Epoch 60/100\n",
      "499992/499992 [==============================] - 28s 55us/step - loss: 0.5701 - accuracy: 0.7015 - val_loss: 2.1039 - val_accuracy: 0.6141\n",
      "Epoch 61/100\n",
      "499992/499992 [==============================] - 26s 52us/step - loss: 0.5701 - accuracy: 0.7016 - val_loss: 2.0150 - val_accuracy: 0.6114\n",
      "Epoch 62/100\n",
      "499992/499992 [==============================] - 27s 53us/step - loss: 0.5703 - accuracy: 0.7010 - val_loss: 2.0236 - val_accuracy: 0.6139\n",
      "Epoch 63/100\n",
      "499992/499992 [==============================] - 26s 51us/step - loss: 0.5700 - accuracy: 0.7012 - val_loss: 2.2088 - val_accuracy: 0.6120\n",
      "Epoch 64/100\n",
      "499992/499992 [==============================] - 28s 55us/step - loss: 0.5699 - accuracy: 0.7017 - val_loss: 2.0148 - val_accuracy: 0.6139\n",
      "Epoch 65/100\n",
      "499992/499992 [==============================] - 25s 50us/step - loss: 0.5701 - accuracy: 0.7010 - val_loss: 1.8783 - val_accuracy: 0.6079\n",
      "Epoch 66/100\n",
      "499992/499992 [==============================] - 24s 48us/step - loss: 0.5702 - accuracy: 0.7015 - val_loss: 2.2116 - val_accuracy: 0.6169\n",
      "Epoch 67/100\n",
      "499992/499992 [==============================] - 23s 47us/step - loss: 0.5701 - accuracy: 0.7012 - val_loss: 2.3640 - val_accuracy: 0.6103\n",
      "Epoch 68/100\n",
      "499992/499992 [==============================] - 25s 50us/step - loss: 0.5699 - accuracy: 0.7013 - val_loss: 2.2680 - val_accuracy: 0.6175\n",
      "Epoch 69/100\n",
      "499992/499992 [==============================] - 25s 51us/step - loss: 0.5701 - accuracy: 0.7008 - val_loss: 2.3419 - val_accuracy: 0.6097\n",
      "Epoch 70/100\n",
      "499992/499992 [==============================] - 27s 54us/step - loss: 0.5702 - accuracy: 0.7015 - val_loss: 2.1949 - val_accuracy: 0.6116\n",
      "Epoch 71/100\n",
      "499992/499992 [==============================] - 28s 55us/step - loss: 0.5701 - accuracy: 0.7013 - val_loss: 2.2946 - val_accuracy: 0.6096\n",
      "Epoch 72/100\n",
      "499992/499992 [==============================] - 29s 59us/step - loss: 0.5695 - accuracy: 0.7019 - val_loss: 2.1991 - val_accuracy: 0.6096\n",
      "Epoch 73/100\n",
      "499992/499992 [==============================] - 28s 55us/step - loss: 0.5695 - accuracy: 0.7019 - val_loss: 2.3428 - val_accuracy: 0.6256\n",
      "Epoch 74/100\n",
      "499992/499992 [==============================] - 25s 50us/step - loss: 0.5696 - accuracy: 0.7018 - val_loss: 2.3636 - val_accuracy: 0.6166\n",
      "Epoch 75/100\n",
      "499992/499992 [==============================] - 30s 60us/step - loss: 0.5696 - accuracy: 0.7014 - val_loss: 2.1725 - val_accuracy: 0.6115\n",
      "Epoch 76/100\n",
      "499992/499992 [==============================] - 30s 60us/step - loss: 0.5698 - accuracy: 0.7019 - val_loss: 2.2504 - val_accuracy: 0.6159\n",
      "Epoch 77/100\n",
      "499992/499992 [==============================] - 28s 57us/step - loss: 0.5698 - accuracy: 0.7017 - val_loss: 2.3012 - val_accuracy: 0.6123\n",
      "Epoch 78/100\n",
      "499992/499992 [==============================] - 29s 57us/step - loss: 0.5695 - accuracy: 0.7018 - val_loss: 2.4903 - val_accuracy: 0.6201\n",
      "Epoch 79/100\n",
      "499992/499992 [==============================] - 29s 58us/step - loss: 0.5700 - accuracy: 0.7012 - val_loss: 2.5284 - val_accuracy: 0.6114\n",
      "Epoch 80/100\n",
      "499992/499992 [==============================] - 27s 55us/step - loss: 0.5697 - accuracy: 0.7020 - val_loss: 2.0356 - val_accuracy: 0.6187\n",
      "Epoch 81/100\n",
      "499992/499992 [==============================] - 31s 61us/step - loss: 0.5698 - accuracy: 0.7017 - val_loss: 2.2821 - val_accuracy: 0.6106\n",
      "Epoch 82/100\n",
      "499992/499992 [==============================] - 29s 58us/step - loss: 0.5695 - accuracy: 0.7024 - val_loss: 2.2400 - val_accuracy: 0.6146\n",
      "Epoch 83/100\n",
      "499992/499992 [==============================] - 28s 55us/step - loss: 0.5698 - accuracy: 0.7013 - val_loss: 2.3121 - val_accuracy: 0.6103\n",
      "Epoch 84/100\n",
      "499992/499992 [==============================] - 30s 60us/step - loss: 0.5695 - accuracy: 0.7022 - val_loss: 2.2764 - val_accuracy: 0.6093\n",
      "Epoch 85/100\n",
      "499992/499992 [==============================] - 28s 57us/step - loss: 0.5697 - accuracy: 0.7019 - val_loss: 2.0700 - val_accuracy: 0.6090\n",
      "Epoch 86/100\n",
      "499992/499992 [==============================] - 28s 55us/step - loss: 0.5699 - accuracy: 0.7021 - val_loss: 2.3727 - val_accuracy: 0.6047\n",
      "Epoch 87/100\n",
      "499992/499992 [==============================] - 31s 63us/step - loss: 0.5701 - accuracy: 0.7019 - val_loss: 2.1548 - val_accuracy: 0.6111\n",
      "Epoch 88/100\n",
      "499992/499992 [==============================] - 29s 58us/step - loss: 0.5700 - accuracy: 0.7020 - val_loss: 2.1414 - val_accuracy: 0.6046\n",
      "Epoch 89/100\n",
      "499992/499992 [==============================] - 28s 56us/step - loss: 0.5696 - accuracy: 0.7020 - val_loss: 2.2475 - val_accuracy: 0.6110\n",
      "Epoch 90/100\n",
      "499992/499992 [==============================] - 30s 60us/step - loss: 0.5695 - accuracy: 0.7024 - val_loss: 2.2073 - val_accuracy: 0.6080\n",
      "Epoch 91/100\n",
      "499992/499992 [==============================] - 29s 58us/step - loss: 0.5698 - accuracy: 0.7020 - val_loss: 2.2301 - val_accuracy: 0.6100\n",
      "Epoch 92/100\n",
      "499992/499992 [==============================] - 24s 48us/step - loss: 0.5696 - accuracy: 0.7023 - val_loss: 2.3744 - val_accuracy: 0.6049\n",
      "Epoch 93/100\n",
      "499992/499992 [==============================] - 22s 44us/step - loss: 0.5694 - accuracy: 0.7018 - val_loss: 2.2004 - val_accuracy: 0.6079\n",
      "Epoch 94/100\n",
      "499992/499992 [==============================] - 23s 45us/step - loss: 0.5698 - accuracy: 0.7017 - val_loss: 2.5875 - val_accuracy: 0.6106\n",
      "Epoch 95/100\n",
      "499992/499992 [==============================] - 31s 63us/step - loss: 0.5696 - accuracy: 0.7025 - val_loss: 2.3901 - val_accuracy: 0.6176\n",
      "Epoch 96/100\n",
      "499992/499992 [==============================] - 25s 50us/step - loss: 0.5698 - accuracy: 0.7018 - val_loss: 2.2077 - val_accuracy: 0.6066\n",
      "Epoch 97/100\n",
      "499992/499992 [==============================] - 22s 45us/step - loss: 0.5695 - accuracy: 0.7024 - val_loss: 2.5713 - val_accuracy: 0.6114\n",
      "Epoch 98/100\n",
      "499992/499992 [==============================] - 24s 47us/step - loss: 0.5695 - accuracy: 0.7022 - val_loss: 2.1954 - val_accuracy: 0.6101\n",
      "Epoch 99/100\n",
      "499992/499992 [==============================] - 24s 48us/step - loss: 0.5693 - accuracy: 0.7023 - val_loss: 2.1606 - val_accuracy: 0.6037\n",
      "Epoch 100/100\n",
      "499992/499992 [==============================] - 20s 40us/step - loss: 0.5691 - accuracy: 0.7019 - val_loss: 2.1064 - val_accuracy: 0.6058\n"
     ]
    }
   ],
   "source": [
    "def create_baseline():\n",
    "    model = Sequential()\n",
    "    model.add(Dense(len(desiredChars), input_dim=len(desiredChars), activation = 'relu', kernel_regularizer='l2'))\n",
    "    model.add(Dense(200, activation = 'relu', kernel_regularizer=regularizers.l2(1e-5)))\n",
    "    model.add(Dense(200, activation = 'relu', kernel_regularizer=regularizers.l2(1e-5)))\n",
    "    model.add(Dense(200, activation = 'relu', kernel_regularizer=regularizers.l2(1e-5)))\n",
    "    model.add(Dense(200, activation = 'relu', kernel_regularizer=regularizers.l2(1e-5)))\n",
    "    model.add(Dense(200, activation = 'relu', kernel_regularizer=regularizers.l2(1e-5)))\n",
    "    model.add(Dense(200, activation = 'relu', kernel_regularizer=regularizers.l2(1e-5)))\n",
    "    model.add(Dense(200, activation = 'relu', kernel_regularizer=regularizers.l2(1e-5)))\n",
    "    model.add(Dense(200, activation = 'relu', kernel_regularizer=regularizers.l2(1e-5)))\n",
    "    model.add(Dense(len(desiredChars), activation = 'relu', activity_regularizer=regularizers.l2(1e-5)))\n",
    "    model.add(Dense(1, activation='sigmoid'))\n",
    "    model.compile(loss='binary_crossentropy', optimizer='adam', metrics = ['accuracy'])\n",
    "    return model\n",
    "\n",
    "baseline_model = create_baseline()\n",
    "history = baseline_model.fit(X_train, y_train, validation_data=(X_dev, y_dev), batch_size=256, epochs=100, verbose=1)\n",
    "_, train_acc = baseline_model.evaluate(X_train, y_train, verbose=0)\n",
    "_, test_acc = baseline_model.evaluate(X_dev, y_dev, verbose=0)\n"
   ]
  },
  {
   "cell_type": "code",
   "execution_count": 9,
   "metadata": {},
   "outputs": [
    {
     "name": "stdout",
     "output_type": "stream",
     "text": [
      "In plotting\n"
     ]
    },
    {
     "data": {
      "image/png": "[encoded data removed]",
      "text/plain": [
       "<Figure size 432x288 with 2 Axes>"
      ]
     },
     "metadata": {
      "needs_background": "light"
     },
     "output_type": "display_data"
    },
    {
     "data": {
      "image/png": "[encoded data removed]",
      "text/plain": [
       "<Figure size 432x288 with 2 Axes>"
      ]
     },
     "metadata": {
      "needs_background": "light"
     },
     "output_type": "display_data"
    }
   ],
   "source": [
    "# plot loss during training\n",
    "print(\"In plotting\")\n",
    "pyplot.subplot(211)\n",
    "pyplot.title('Loss')\n",
    "pyplot.plot(history.history['loss'], label='train')\n",
    "pyplot.plot(history.history['val_loss'], label='test')\n",
    "pyplot.legend()\n",
    "pyplot.subplots_adjust(hspace=0.5)\n",
    "# plot accuracy during training\n",
    "pyplot.subplot(212)\n",
    "pyplot.title('Accuracy')\n",
    "pyplot.plot(history.history['accuracy'], label='train')\n",
    "pyplot.plot(history.history['val_accuracy'], label='test')\n",
    "pyplot.legend()\n",
    "pyplot.show()\n",
    "pyplot.subplot(211)\n",
    "pyplot.title('Loss')\n",
    "pyplot.plot(history.history['loss'], label='train')\n",
    "pyplot.plot(history.history['val_loss'], label='test')\n",
    "pyplot.legend()\n",
    "pyplot.subplots_adjust(hspace=0.5)\n",
    "# plot accuracy during training\n",
    "pyplot.subplot(212)\n",
    "pyplot.title('Accuracy')\n",
    "pyplot.plot(history.history['accuracy'], label='train')\n",
    "pyplot.plot(history.history['val_accuracy'], label='test')\n",
    "pyplot.legend()\n",
    "pyplot.show()"
   ]
  },
  {
   "cell_type": "code",
   "execution_count": 10,
   "metadata": {},
   "outputs": [
    {
     "name": "stdout",
     "output_type": "stream",
     "text": [
      "4239\n",
      "Accuracy: 0.605840\n",
      "Precision: 0.476999\n",
      "Recall: 0.103623\n",
      "F1 score: 0.170259\n",
      "185312\n",
      "Accuracy: 0.700871\n",
      "Precision: 0.708632\n",
      "Recall: 0.578784\n",
      "F1 score: 0.637160\n"
     ]
    }
   ],
   "source": [
    "# Setting up our Metrics Functions.  The key idea is we use our fitted baseline_predictor to make predictions.\n",
    "# We use Keras's inbuilt predict functions() to first make predictions \n",
    "yhat_probs = baseline_model.predict(X_dev, verbose=0)\n",
    "yhat_classes = baseline_model.predict_classes(X_dev, verbose=0)\n",
    "# The above returns a 2D array, one row for each example in test dataset, and one column for prediction\n",
    "yhat_probs = yhat_probs[:, 0]\n",
    "yhat_classes = yhat_classes[:, 0]\n",
    "print(np.sum(yhat_classes))\n",
    "\n",
    "accuracy = accuracy_score(y_dev, yhat_classes)\n",
    "print('Accuracy: %f' % accuracy)\n",
    "# precision tp / (tp + fp)\n",
    "precision = precision_score(y_dev, yhat_classes)\n",
    "print('Precision: %f' % precision)\n",
    "# recall: tp / (tp + fn)\n",
    "recall = recall_score(y_dev, yhat_classes)\n",
    "print('Recall: %f' % recall)\n",
    "# f1: 2 tp / (2 tp + fp + fn)\n",
    "f1 = f1_score(y_dev, yhat_classes)\n",
    "print('F1 score: %f' % f1)\n",
    "\n",
    "\n",
    "yhat_classes = baseline_model.predict_classes(X_train, verbose=0)\n",
    "# The above returns a 2D array, one row for each example in test dataset, and one column for prediction\n",
    "# yhat_probs = yhat_probs[:, 0]\n",
    "yhat_classes = yhat_classes[:, 0]\n",
    "print(np.sum(yhat_classes))\n",
    "\n",
    "accuracy = accuracy_score(y_train, yhat_classes)\n",
    "print('Accuracy: %f' % accuracy)\n",
    "# precision tp / (tp + fp)\n",
    "precision = precision_score(y_train, yhat_classes)\n",
    "print('Precision: %f' % precision)\n",
    "# recall: tp / (tp + fn)\n",
    "recall = recall_score(y_train, yhat_classes)\n",
    "print('Recall: %f' % recall)\n",
    "# f1: 2 tp / (2 tp + fp + fn)\n",
    "f1 = f1_score(y_train, yhat_classes)\n",
    "print('F1 score: %f' % f1)\n"
   ]
  },
  {
   "cell_type": "code",
   "execution_count": 11,
   "metadata": {},
   "outputs": [
    {
     "name": "stdout",
     "output_type": "stream",
     "text": [
      "No Skill: ROC AUC=0.500\n",
      "Logistic: ROC AUC=0.561\n"
     ]
    },
    {
     "data": {
      "image/png": "[encoded data removed]",
      "text/plain": [
       "<Figure size 432x288 with 1 Axes>"
      ]
     },
     "metadata": {
      "needs_background": "light"
     },
     "output_type": "display_data"
    }
   ],
   "source": [
    "## Final metric is an ROC measure/curve...\n",
    "ns_probs = [0 for _ in range(len(y_dev))]\n",
    "deepNN_probs = yhat_probs\n",
    "ns_auc = roc_auc_score(y_dev, ns_probs)\n",
    "deepNN_auc = roc_auc_score(y_dev, deepNN_probs)\n",
    "# summarize scores\n",
    "print('No Skill: ROC AUC=%.3f' % (ns_auc))\n",
    "print('Logistic: ROC AUC=%.3f' % (deepNN_auc))\n",
    "# calculate roc curves\n",
    "ns_fpr, ns_tpr, _ = roc_curve(y_dev, ns_probs)\n",
    "deepNN_fpr, deepNN_tpr, _ = roc_curve(y_dev, deepNN_probs)\n",
    "# plot the roc curve for the model\n",
    "pyplot.plot(ns_fpr, ns_tpr, linestyle='--', label='No Skill')\n",
    "pyplot.plot(deepNN_fpr, deepNN_tpr, marker='.', label='Logistic')\n",
    "# axis labels\n",
    "pyplot.xlabel('False Positive Rate')\n",
    "pyplot.ylabel('True Positive Rate')\n",
    "# show the legend\n",
    "pyplot.legend()\n",
    "# show the plot\n",
    "pyplot.show()"
   ]
  },
  {
   "cell_type": "code",
   "execution_count": null,
   "metadata": {},
   "outputs": [],
   "source": []
  }
 ],
 "metadata": {
  "kernelspec": {
   "display_name": "Python 3",
   "language": "python",
   "name": "python3"
  },
  "language_info": {
   "codemirror_mode": {
    "name": "ipython",
    "version": 3
   },
   "file_extension": ".py",
   "mimetype": "text/x-python",
   "name": "python",
   "nbconvert_exporter": "python",
   "pygments_lexer": "ipython3",
   "version": "3.6.10"
  }
 },
 "nbformat": 4,
 "nbformat_minor": 4
}
